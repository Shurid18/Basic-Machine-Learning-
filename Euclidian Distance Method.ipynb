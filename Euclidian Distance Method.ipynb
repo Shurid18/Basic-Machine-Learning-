{
 "cells": [
  {
   "cell_type": "code",
   "execution_count": null,
   "id": "b406dfb9",
   "metadata": {},
   "outputs": [],
   "source": [
    "#Calculate the distance between data and two cluster’s centroid. Use the Euclidian Distance Method."
   ]
  },
  {
   "cell_type": "code",
   "execution_count": 1,
   "id": "3a61a4d9",
   "metadata": {},
   "outputs": [
    {
     "name": "stdout",
     "output_type": "stream",
     "text": [
      "  Point Coordinates  Distance to Cluster-1 (3,5)  Distance to Cluster-2 (4,6)\n",
      "0     A      (3, 5)                         0.00                         1.41\n",
      "1     B      (5, 7)                         2.83                         1.41\n",
      "2     C      (4, 6)                         1.41                         0.00\n",
      "3     D      (6, 8)                         4.24                         2.83\n",
      "4     E      (3, 7)                         2.00                         1.41\n"
     ]
    }
   ],
   "source": [
    "import numpy as np\n",
    "import pandas as pd\n",
    "\n",
    "# Define centroids\n",
    "centroid1 = np.array([3, 5])   # Cluster-1\n",
    "centroid2 = np.array([4, 6])   # Cluster-2\n",
    "\n",
    "# Data points\n",
    "data_points = {\n",
    "    \"A\": [3, 5],\n",
    "    \"B\": [5, 7],\n",
    "    \"C\": [4, 6],\n",
    "    \"D\": [6, 8],\n",
    "    \"E\": [3, 7]\n",
    "}\n",
    "\n",
    "# Function for Euclidean distance\n",
    "def euclidean_distance(p1, p2):\n",
    "    return np.sqrt(np.sum((p1 - p2) ** 2))\n",
    "\n",
    "# Calculate distances\n",
    "results = []\n",
    "for point, coords in data_points.items():\n",
    "    coords = np.array(coords)\n",
    "    dist_c1 = euclidean_distance(coords, centroid1)\n",
    "    dist_c2 = euclidean_distance(coords, centroid2)\n",
    "    results.append([point, tuple(coords), round(dist_c1,2), round(dist_c2,2)])\n",
    "\n",
    "# Convert to DataFrame for neat display\n",
    "df = pd.DataFrame(results, columns=[\"Point\", \"Coordinates\", \"Distance to Cluster-1 (3,5)\", \"Distance to Cluster-2 (4,6)\"])\n",
    "print(df)"
   ]
  },
  {
   "cell_type": "code",
   "execution_count": null,
   "id": "73156451",
   "metadata": {},
   "outputs": [],
   "source": []
  }
 ],
 "metadata": {
  "kernelspec": {
   "display_name": "Python 3",
   "language": "python",
   "name": "python3"
  },
  "language_info": {
   "codemirror_mode": {
    "name": "ipython",
    "version": 3
   },
   "file_extension": ".py",
   "mimetype": "text/x-python",
   "name": "python",
   "nbconvert_exporter": "python",
   "pygments_lexer": "ipython3",
   "version": "3.8.8"
  }
 },
 "nbformat": 4,
 "nbformat_minor": 5
}
